{
 "cells": [
  {
   "cell_type": "code",
   "execution_count": 47,
   "id": "6bb3b62f-91ae-4555-a44c-785a512fe6fb",
   "metadata": {},
   "outputs": [
    {
     "name": "stdin",
     "output_type": "stream",
     "text": [
      "Enter your name:  Felipe\n",
      "Enter your weight in kilograms:  79.5\n",
      "Enter your height in Meters:  1.73\n"
     ]
    },
    {
     "name": "stdout",
     "output_type": "stream",
     "text": [
      "BMI:  26.56\n",
      "Felipe, You are over weight.\n",
      "Your ideal weight have to be:  65.8\n"
     ]
    }
   ],
   "source": [
    "name = input(\"Enter your name: \")\n",
    "\n",
    "weight = float(input(\"Enter your weight in kilograms: \"))\n",
    "height = float(input(\"Enter your height in Meters: \"))\n",
    "\n",
    "BMI = (weight) / (height * height)\n",
    "ResultBMI = round(BMI,2)\n",
    "\n",
    "ideal_weight1 = (22) * (height * height)\n",
    "Resultideal_weight1 = round(ideal_weight1,1)\n",
    "\n",
    "if BMI>0:\n",
    "    if (BMI<18.5):\n",
    "        print(\"BMI: \",ResultBMI)\n",
    "        print(name +\", You are under weight.\")\n",
    "        print(\"Your ideal weight have to be: \",Resultideal_weight1)\n",
    "    elif (BMI<=24.9):\n",
    "        print(\"BMI: \",ResultBMI)\n",
    "        print(name +\", You are normal weight.\")\n",
    "    elif (BMI<29.9):\n",
    "        print(\"BMI: \",ResultBMI)\n",
    "        print(name +\", You are over weight.\")\n",
    "        print(\"Your ideal weight have to be: \",Resultideal_weight1)\n",
    "    elif (BMI<34.9):\n",
    "        print(\"BMI: \",ResultBMI)\n",
    "        print(name +\", You are obese \")\n",
    "        print(\"Your ideal weight have to be: \",Resultideal_weight1)\n",
    "    elif (BMI<39.9):\n",
    "        print(\"BMI: \",ResultBMI)\n",
    "        print(name +\", You are Severely Obese\")\n",
    "        print(\"Your ideal weight have to be: \",Resultideal_weight1)\n",
    "    else:\n",
    "        print(\"BMI: \",ResultBMI)\n",
    "        print(name +\", You are Morbidly Obese\")\n",
    "        print(\"Your ideal weight have to be: \",Resultideal_weight1)\n",
    "else:\n",
    "    print(name +\", Enter valid inputs\")"
   ]
  }
 ],
 "metadata": {
  "kernelspec": {
   "display_name": "Python 3 (ipykernel)",
   "language": "python",
   "name": "python3"
  },
  "language_info": {
   "codemirror_mode": {
    "name": "ipython",
    "version": 3
   },
   "file_extension": ".py",
   "mimetype": "text/x-python",
   "name": "python",
   "nbconvert_exporter": "python",
   "pygments_lexer": "ipython3",
   "version": "3.11.7"
  }
 },
 "nbformat": 4,
 "nbformat_minor": 5
}
